{
 "cells": [
  {
   "cell_type": "code",
   "execution_count": 1,
   "metadata": {},
   "outputs": [],
   "source": [
    "matplotlib inline"
   ]
  },
  {
   "cell_type": "code",
   "execution_count": 2,
   "metadata": {},
   "outputs": [],
   "source": [
    "from numpy import *"
   ]
  },
  {
   "cell_type": "code",
   "execution_count": 18,
   "metadata": {},
   "outputs": [],
   "source": [
    "def loadDataSet(fileName):\n",
    "    dataMat = []\n",
    "    fr = open(fileName)\n",
    "    for line in fr.readlines():\n",
    "        curLine = line.strip().split('\\t')\n",
    "        fltLine = list(map(float,curLine))\n",
    "        dataMat.append(fltLine)\n",
    "    return dataMat\n",
    "\n",
    "def distEclud(vecA, vecB):\n",
    "    \"\"\"\n",
    "    计算两个向量的欧式距离\n",
    "    \"\"\"\n",
    "    return sqrt(sum(power(vecA - vecB, 2)))\n",
    "\n",
    "def randCent(dataSet, k):\n",
    "    \"\"\"\n",
    "    该函数为给定数据集构建一个包含k个随机质心的集合。\n",
    "    随机质心必须要在整个数据集的边界之内，这可以通过找到数据集每一维的最小和最大值来完成。\n",
    "    然后生成0到1.0之间的随机数并通过取值范围和最小值，以便确保随机点在数据的边界之内。\n",
    "    \"\"\"\n",
    "    n = shape(dataSet)[1]\n",
    "    centroids = mat(zeros((k, n)))\n",
    "    for j in range(n):\n",
    "        minJ = min(dataSet[:,j])\n",
    "        rangeJ = float(max(dataSet[:,j]) - minJ)\n",
    "        centroids[:,j] = minJ + rangeJ * random.rand(k,1)\n",
    "    return centroids\n"
   ]
  },
  {
   "cell_type": "code",
   "execution_count": 13,
   "metadata": {},
   "outputs": [
    {
     "data": {
      "text/plain": [
       "matrix([[ 1.658985,  4.285136],\n",
       "        [-3.453687,  3.424321],\n",
       "        [ 4.838138, -1.151539],\n",
       "        [-5.379713, -3.362104],\n",
       "        [ 0.972564,  2.924086],\n",
       "        [-3.567919,  1.531611],\n",
       "        [ 0.450614, -3.302219],\n",
       "        [-3.487105, -1.724432],\n",
       "        [ 2.668759,  1.594842],\n",
       "        [-3.156485,  3.191137],\n",
       "        [ 3.165506, -3.999838],\n",
       "        [-2.786837, -3.099354],\n",
       "        [ 4.208187,  2.984927],\n",
       "        [-2.123337,  2.943366],\n",
       "        [ 0.704199, -0.479481],\n",
       "        [-0.39237 , -3.963704],\n",
       "        [ 2.831667,  1.574018],\n",
       "        [-0.790153,  3.343144],\n",
       "        [ 2.943496, -3.357075],\n",
       "        [-3.195883, -2.283926]])"
      ]
     },
     "execution_count": 13,
     "metadata": {},
     "output_type": "execute_result"
    }
   ],
   "source": [
    "datMat = mat(loadDataSet('testSet.txt'))\n",
    "datMat[:20]"
   ]
  },
  {
   "cell_type": "code",
   "execution_count": 15,
   "metadata": {},
   "outputs": [
    {
     "data": {
      "text/plain": [
       "matrix([[-5.379713]])"
      ]
     },
     "execution_count": 15,
     "metadata": {},
     "output_type": "execute_result"
    }
   ],
   "source": [
    "min(datMat[:,0])"
   ]
  },
  {
   "cell_type": "code",
   "execution_count": 16,
   "metadata": {},
   "outputs": [
    {
     "data": {
      "text/plain": [
       "matrix([[5.1904]])"
      ]
     },
     "execution_count": 16,
     "metadata": {},
     "output_type": "execute_result"
    }
   ],
   "source": [
    "max(datMat[:,1])"
   ]
  },
  {
   "cell_type": "code",
   "execution_count": 9,
   "metadata": {},
   "outputs": [
    {
     "data": {
      "text/plain": [
       "matrix([[<map object at 0x000001BE57004F98>]], dtype=object)"
      ]
     },
     "execution_count": 9,
     "metadata": {},
     "output_type": "execute_result"
    }
   ],
   "source": [
    "max(datMat[:,0])"
   ]
  },
  {
   "cell_type": "code",
   "execution_count": 19,
   "metadata": {},
   "outputs": [
    {
     "data": {
      "text/plain": [
       "matrix([[ 2.1211334 ,  5.02873549],\n",
       "        [-2.4273945 ,  3.08630626]])"
      ]
     },
     "execution_count": 19,
     "metadata": {},
     "output_type": "execute_result"
    }
   ],
   "source": [
    "randCent(datMat, 2)"
   ]
  },
  {
   "cell_type": "code",
   "execution_count": 21,
   "metadata": {},
   "outputs": [],
   "source": [
    "def kMeans(dataSet, k, distMeas=distEclud, createCent=randCent):\n",
    "    \"\"\"\n",
    "    K-均值算法\n",
    "    4个输入参数，只有数据集和簇的数目是必选参数，而用来计算距离和创建初始质心的函数都是可选的\n",
    "    \"\"\"\n",
    "    m = shape(dataSet)[0]  #确定数据集中数据集点的总数\n",
    "    clusterAssment = mat(zeros((m,2)))  #创建一个矩阵存储每个点的簇分配结果，包含两列：一列记录簇索引值，第二列存储误差\n",
    "    centroids = createCent(dataSet, k)\n",
    "    clusterChanged = True  #创建一个标志变量，如果该值为TRUE，则继续迭代\n",
    "    while clusterChanged:\n",
    "        clusterChanged = False\n",
    "        #遍历所有数据找到距离每个点最近的质心\n",
    "        for i in range(m):\n",
    "            minDist = inf; minIndex = -1\n",
    "            #寻找最近的质心\n",
    "            for j in range(k):\n",
    "                distJI = distMeas(centroids[j,:], dataSet[i,:])  #每个点遍历质心并计算点到质心的距离\n",
    "                if distJI< minDist:\n",
    "                    minDist = distJI; minIndex= j\n",
    "            if clusterAssment[i,0] != minIndex: clusterChanged = True\n",
    "            clusterAssment[i,:] = minIndex, minDist**2\n",
    "        print(centroids)\n",
    "        for cent in range(k):\n",
    "            ptsInClust = dataSet[nonzero(clusterAssment[:,0].A == cent)[0]]  #数组过滤获得给定簇的所有点\n",
    "            centroids[cent,:] = mean(ptsInClust, axis=0)  #沿列方向计算所有点的均值\n",
    "    return centroids, clusterAssment  #返回所有的类质心与点分配结果"
   ]
  },
  {
   "cell_type": "code",
   "execution_count": 22,
   "metadata": {},
   "outputs": [
    {
     "name": "stdout",
     "output_type": "stream",
     "text": [
      "[[ 0.44475435 -0.83467598]\n",
      " [ 4.03188951 -3.17602682]\n",
      " [-3.24018062  4.30005296]\n",
      " [-2.64151791 -3.39950651]]\n",
      "[[ 2.25674918  2.17252118]\n",
      " [ 3.10080606 -2.87897482]\n",
      " [-2.04780157  3.06847276]\n",
      " [-3.38237045 -2.9473363 ]]\n",
      "[[ 2.53499033  2.93781533]\n",
      " [ 2.91339042 -2.85004268]\n",
      " [-2.46154315  2.78737555]\n",
      " [-3.38237045 -2.9473363 ]]\n",
      "[[ 2.6265299   3.10868015]\n",
      " [ 2.80293085 -2.7315146 ]\n",
      " [-2.46154315  2.78737555]\n",
      " [-3.38237045 -2.9473363 ]]\n"
     ]
    }
   ],
   "source": [
    "myCentroids, clustAssing = kMeans(datMat, 4)"
   ]
  },
  {
   "cell_type": "code",
   "execution_count": 23,
   "metadata": {},
   "outputs": [],
   "source": [
    "import matplotlib\n",
    "import matplotlib.pyplot as plt\n",
    "def showPlt(datMat, alg=kMeans, numClust=4):\n",
    "    myCentroids, clustAssing = alg(datMat, numClust)\n",
    "    fig = plt.figure()\n",
    "    rect=[0.1,0.1,0.8,0.8]\n",
    "    scatterMarkers=['s', 'o', '^', '8', 'p', \\\n",
    "                    'd', 'v', 'h', '>', '<']\n",
    "    axprops = dict(xticks=[], yticks=[])\n",
    "    ax0=fig.add_axes(rect, label='ax0', **axprops)\n",
    "    ax1=fig.add_axes(rect, label='ax1', frameon=False)\n",
    "    for i in range(numClust):\n",
    "        ptsInCurrCluster = datMat[nonzero(clustAssing[:,0].A==i)[0],:]\n",
    "        markerStyle = scatterMarkers[i % len(scatterMarkers)]\n",
    "        ax1.scatter(ptsInCurrCluster[:,0].flatten().A[0], ptsInCurrCluster[:,1].flatten().A[0], marker=markerStyle, s=90)\n",
    "    ax1.scatter(myCentroids[:,0].flatten().A[0], myCentroids[:,1].flatten().A[0], marker='+', s=300)\n",
    "    plt.show()"
   ]
  },
  {
   "cell_type": "code",
   "execution_count": 24,
   "metadata": {},
   "outputs": [
    {
     "name": "stdout",
     "output_type": "stream",
     "text": [
      "[[ 4.43475269 -4.10543199]\n",
      " [-0.82349214  4.3919894 ]\n",
      " [-0.55501795 -2.38781257]\n",
      " [-2.92636387  1.34029905]]\n",
      "[[ 3.38162744 -2.53850144]\n",
      " [ 1.58289128  3.2169308 ]\n",
      " [-2.37079108 -2.90202037]\n",
      " [-3.00455947  2.27902253]]\n",
      "[[ 2.926737   -2.70147753]\n",
      " [ 2.46383071  3.1198451 ]\n",
      " [-3.19984738 -2.96423548]\n",
      " [-2.54951105  2.75812458]]\n",
      "[[ 2.80293085 -2.7315146 ]\n",
      " [ 2.6265299   3.10868015]\n",
      " [-3.38237045 -2.9473363 ]\n",
      " [-2.46154315  2.78737555]]\n"
     ]
    },
    {
     "data": {
      "image/png": "[encoded data removed]",
      "text/plain": [
       "<Figure size 432x288 with 2 Axes>"
      ]
     },
     "metadata": {},
     "output_type": "display_data"
    }
   ],
   "source": [
    "showPlt(datMat)"
   ]
  },
  {
   "cell_type": "code",
   "execution_count": null,
   "metadata": {},
   "outputs": [],
   "source": []
  }
 ],
 "metadata": {
  "kernelspec": {
   "display_name": "Python 3",
   "language": "python",
   "name": "python3"
  },
  "language_info": {
   "codemirror_mode": {
    "name": "ipython",
    "version": 3
   },
   "file_extension": ".py",
   "mimetype": "text/x-python",
   "name": "python",
   "nbconvert_exporter": "python",
   "pygments_lexer": "ipython3",
   "version": "3.6.5"
  }
 },
 "nbformat": 4,
 "nbformat_minor": 2
}
